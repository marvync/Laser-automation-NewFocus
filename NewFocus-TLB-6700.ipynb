{
 "cells": [
  {
   "cell_type": "markdown",
   "metadata": {},
   "source": [
    "## NewFocus TLB-6700"
   ]
  },
  {
   "cell_type": "code",
   "execution_count": 1,
   "metadata": {},
   "outputs": [],
   "source": [
    "import os\n",
    "import sys\n",
    "import ipdb\n",
    "import numpy as np\n",
    "\n",
    "import clr\n",
    "\n",
    "from time import sleep\n",
    "from clr import System\n",
    "from System.Text import StringBuilder\n",
    "from System import Int32\n",
    "from System.Reflection import Assembly"
   ]
  },
  {
   "cell_type": "code",
   "execution_count": 2,
   "metadata": {},
   "outputs": [],
   "source": [
    "sys.path.append('C:\\\\Program Files\\\\New Focus\\\\New Focus Tunable Laser Application\\\\')\n",
    "clr.AddReference('UsbDllWrap')\n",
    "\n",
    "import Newport\n",
    "tlb = Newport.USBComm.USB()"
   ]
  },
  {
   "cell_type": "code",
   "execution_count": 3,
   "metadata": {},
   "outputs": [],
   "source": [
    "answer = StringBuilder(64)\n",
    "\n",
    "ProductID = 4106\n",
    "DeviceKey = '6700 SN1012'\n",
    "\n",
    "def tlb_open():\n",
    "    tlb.OpenDevices(ProductID, True)\n",
    "\n",
    "def tlb_close():\n",
    "    tlb.CloseDevices()\n",
    "\n",
    "# tab = tlb.GetDeviceTable()\n",
    "# Empty buffer\n",
    "# out = tlb.Read(DeviceKey, answer)"
   ]
  },
  {
   "cell_type": "code",
   "execution_count": 14,
   "metadata": {},
   "outputs": [
    {
     "data": {
      "text/plain": [
       "'New_Focus 6700 v2.4 03/19/14 SN1012'"
      ]
     },
     "execution_count": 14,
     "metadata": {},
     "output_type": "execute_result"
    }
   ],
   "source": [
    "tlb_open()\n",
    "\n",
    "def tlb_query(msg):\n",
    "    answer.Clear()\n",
    "    tlb.Query(DeviceKey, msg, answer)\n",
    "    return answer.ToString()\n",
    "\n",
    "tlb_query('*RST') # Performs a soft reset of the instrument.\n",
    "tlb_query('*IDN?')"
   ]
  },
  {
   "cell_type": "markdown",
   "metadata": {},
   "source": [
    "### TLB Properties"
   ]
  },
  {
   "cell_type": "code",
   "execution_count": 30,
   "metadata": {},
   "outputs": [],
   "source": [
    "def tlb_set_power(P):\n",
    "    # P in mW\n",
    "    tlb_query('SOURce:POWer:DIODe {}'.format(P))\n",
    "    P_current = tlb_query('SOURce:POWer:DIODe?')\n",
    "    return print('P_current = {} mW'.format(P_current))\n",
    "\n",
    "def tlb_set_wavelength(λ):\n",
    "    # λ in nm\n",
    "    tlb_query('SOURce:WAVElength {}'.format(λ))\n",
    "    tlb_query('OUTPut:TRACK 1')\n",
    "    λ_current = tlb_query('SOURCE:WAVELENGTH?')\n",
    "    return print('λ_current = {} nm'.format(λ_current))\n",
    "    \n",
    "def tlb_set_scan_limits(λi, λf):\n",
    "    # λi, λf in nm\n",
    "    tlb_query('SOURce:WAVElength:START {}'.format(λi))\n",
    "    tlb_query('SOURce:WAVElength:STOP {}'.format(λf))\n",
    "    return print('λ_init = {} nm'.format(tlb_query('SOURce:WAVElength:START?'))  + '\\n' +  \n",
    "                 'λ_final = {} nm'.format(tlb_query('SOURce:WAVElength:STOP?')))\n",
    "\n",
    "def tlb_set_scan_speeds(forward, backward):\n",
    "    # forward, backward in nm/s\n",
    "    tlb_query('SOURce:WAVE:SLEW:FORWard {}'.format(forward))\n",
    "    tlb_query('SOURce:WAVE:SLEW:RETurn {}'.format(backward))\n",
    "    return print('Forward speed = {} nm/s'.format(tlb_query('SOURce:WAVE:SLEW:FORWard?')) + '\\n' + \n",
    "                 'Backward speed = {} nm/s'.format(tlb_query('SOURce:WAVE:SLEW:RETurn?')))\n",
    "\n",
    "def tlb_scan(boolean):\n",
    "    # boolean is True or False\n",
    "    tlb_query('SOUR:WAVE:DESSCANS 50')\n",
    "    if boolean:\n",
    "        tlb_query('OUTPut:SCAN:START')\n",
    "    else:\n",
    "        tlb_query('OUTPut:SCAN:STOP')"
   ]
  },
  {
   "cell_type": "code",
   "execution_count": 31,
   "metadata": {},
   "outputs": [
    {
     "name": "stdout",
     "output_type": "stream",
     "text": [
      "Forward speed = 0.10 nm/s\n",
      "Backward speed = 5.00 nm/s\n"
     ]
    }
   ],
   "source": [
    "# tlb_set_wavelength(1550)\n",
    "# tlb_set_scan_limits(1550,1560)\n",
    "tlb_set_scan_speeds(0.1, 5)\n",
    "tlb_scan(True)"
   ]
  },
  {
   "cell_type": "code",
   "execution_count": 32,
   "metadata": {},
   "outputs": [],
   "source": [
    "tlb_scan(False)"
   ]
  },
  {
   "cell_type": "code",
   "execution_count": 25,
   "metadata": {},
   "outputs": [
    {
     "data": {
      "text/plain": [
       "'0'"
      ]
     },
     "execution_count": 25,
     "metadata": {},
     "output_type": "execute_result"
    }
   ],
   "source": [
    "# print(tlb_query('OUTPut:SCAN:START?'))\n",
    "tlb_query('*OPC?')"
   ]
  },
  {
   "cell_type": "code",
   "execution_count": 8,
   "metadata": {},
   "outputs": [
    {
     "name": "stdout",
     "output_type": "stream",
     "text": [
      "λ_init = 1550.00 nm\n",
      "λ_final = 1560.00 nm\n"
     ]
    }
   ],
   "source": [
    "# tlb_open()\n",
    "\n",
    "# tlb_set_wavelength(1550)\n",
    "tlb_set_scan_limits(1550,1560)\n",
    "# tlb_scan_limits()\n",
    "\n",
    "# tlb_query('SOURce:WAVE:SCANCFG')\n",
    "# tlb_query('OUTPut:TRACK 1')"
   ]
  },
  {
   "cell_type": "code",
   "execution_count": 9,
   "metadata": {},
   "outputs": [
    {
     "name": "stdout",
     "output_type": "stream",
     "text": [
      "Current wavelength : 1553.000 nm\n",
      "Laser state : 0\n"
     ]
    }
   ],
   "source": [
    "print('Current wavelength : '+tlb_query('SOURCE:WAVELENGTH?')+' nm')\n",
    "print('Laser state : '+tlb_query('OUTPut:STATe?'))"
   ]
  },
  {
   "cell_type": "code",
   "execution_count": 19,
   "metadata": {},
   "outputs": [
    {
     "data": {
      "text/plain": [
       "'OK'"
      ]
     },
     "execution_count": 19,
     "metadata": {},
     "output_type": "execute_result"
    }
   ],
   "source": [
    "tlb_query('OUTPut:STATe 0')"
   ]
  },
  {
   "cell_type": "code",
   "execution_count": 11,
   "metadata": {},
   "outputs": [],
   "source": [
    "tlb_close()"
   ]
  }
 ],
 "metadata": {
  "kernelspec": {
   "display_name": "Python 3",
   "language": "python",
   "name": "python3"
  },
  "language_info": {
   "codemirror_mode": {
    "name": "ipython",
    "version": 3
   },
   "file_extension": ".py",
   "mimetype": "text/x-python",
   "name": "python",
   "nbconvert_exporter": "python",
   "pygments_lexer": "ipython3",
   "version": "3.7.3"
  }
 },
 "nbformat": 4,
 "nbformat_minor": 4
}
